{
 "cells": [
  {
   "cell_type": "markdown",
   "metadata": {
    "id": "6YlKJM3WnVeA"
   },
   "source": [
    "## Introdução ao Processamento de Imagens\n",
    "\n",
    "**Objetivos da aula:**\n",
    "\n",
    "*   Conhecer o que é uma imagem digital\n",
    "*   Conhecer como fazer leitura e exibição de imagens\n",
    "*   conhecer algumas propriedades de imagens\n",
    "*   conhecer canais de cores de imagens\n"
   ]
  },
  {
   "cell_type": "markdown",
   "metadata": {
    "id": "itXL7FnHfNJ1"
   },
   "source": [
    "## Representação e visualização de imagem\n",
    "\n",
    "Uma imagem digital nada mais é que uma uma matriz de linhas e colunas, onde cada posição desta matriz contem o valor de um *pixel*.\n",
    "\n",
    "O valor de cada pixel representa a intensidade de cor naquele ponto especifico. \n"
   ]
  },
  {
   "cell_type": "code",
   "execution_count": null,
   "metadata": {
    "colab": {
     "base_uri": "https://localhost:8080/"
    },
    "id": "M1A0VthdncJh",
    "outputId": "ee567e92-c3f1-4ad9-c6c9-333de9a7a85c"
   },
   "outputs": [],
   "source": [
    "# Importando a biblioteca OpenCV\n",
    "import cv2 \n",
    "\n",
    "#import a biblioteca Numpy8 bits\n",
    "import numpy as np\n",
    "\n",
    "#linha magica para imprimir graficos no notebook\n",
    "%matplotlib inline\n",
    "from matplotlib import pyplot as plt\n",
    "\n",
    "\n",
    "print (\"OpenCV Versão : %s \" % cv2.__version__)"
   ]
  },
  {
   "cell_type": "code",
   "execution_count": null,
   "metadata": {
    "colab": {
     "base_uri": "https://localhost:8080/",
     "height": 287
    },
    "id": "i5mtjrDPnyIU",
    "outputId": "b3c9267f-e35b-46ba-81cf-aacec2361ba1"
   },
   "outputs": [],
   "source": [
    "image = cv2.imread(\"NATUREZA_1.jpg\")\n",
    "\n",
    "plt.imshow(image)"
   ]
  },
  {
   "cell_type": "code",
   "execution_count": null,
   "metadata": {
    "colab": {
     "base_uri": "https://localhost:8080/",
     "height": 248
    },
    "id": "T6hLBUE05cTu",
    "outputId": "b8934c08-dd20-42c9-b163-005ef1de95c6"
   },
   "outputs": [],
   "source": [
    "# para nao imprimir os eixos \n",
    "image = cv2.imread(\"NATUREZA_1.jpg\")\n",
    "\n",
    "plt.imshow(image,interpolation=\"none\")\n",
    "plt.axis('off') \n",
    "plt.show()"
   ]
  },
  {
   "cell_type": "markdown",
   "metadata": {
    "id": "-N4QOEy8uu8A"
   },
   "source": [
    "A imagem colorida possui três dimensões: as linhas e as colunas da matriz, bem como os canais da imagem. Uma imagem colorida geralmente possui três canais: R (Red - vermelho) G (Green - verde) B (Blue - azul)\n",
    "\n",
    "Mas porque a imagem é mostrada de modo estranho pelo pacote matplotlib? Porque a OpenCV representa os canais da imagem na ordem B - G - R, e não R - G - B como é esperado pela maior parte das bibliotecas.\n",
    "\n",
    "Assim, para podermos visualizar corretamente uma imagem do OpenCV com matplotlib, precisamos inverter os canais, como no código abaixo:\n"
   ]
  },
  {
   "cell_type": "code",
   "execution_count": null,
   "metadata": {
    "colab": {
     "base_uri": "https://localhost:8080/",
     "height": 248
    },
    "id": "CiilIinfrCxp",
    "outputId": "2195dcfc-d73e-4f76-ea6d-4fd1b7b7aef1"
   },
   "outputs": [],
   "source": [
    "image_rgb = cv2.cvtColor(image, cv2.COLOR_BGR2RGB)\n",
    "\n",
    "plt.imshow(image_rgb)\n",
    "\n",
    "plt.axis('off') \n",
    "plt.show()"
   ]
  },
  {
   "cell_type": "code",
   "execution_count": null,
   "metadata": {
    "colab": {
     "base_uri": "https://localhost:8080/"
    },
    "id": "gWfTKa9QvxSq",
    "outputId": "d65438e3-0d24-4ddf-9f2a-83b2efc0acfe"
   },
   "outputs": [],
   "source": [
    "# Mostrando a representação interna da imagem\n",
    "print(\"Dimensões da imagem: \", image_rgb.shape)\n",
    "print(\"Quantidade de linhas: \", image_rgb.shape[0])\n",
    "print(\"Quantidade de colunas: \", image_rgb.shape[1])\n",
    "print(\"Camadas de cores: \", image_rgb.shape[2])"
   ]
  },
  {
   "cell_type": "code",
   "execution_count": null,
   "metadata": {
    "colab": {
     "base_uri": "https://localhost:8080/"
    },
    "id": "SN4KfS42wEav",
    "outputId": "2fb38c35-e289-4cfb-fcf0-a7e085956eee"
   },
   "outputs": [],
   "source": [
    "# Mostrando a representação interna da imagem\n",
    "print(\"Dimensões da imagem: \\n\", image_rgb)\n"
   ]
  },
  {
   "cell_type": "markdown",
   "metadata": {
    "id": "DGez_96OwO29"
   },
   "source": [
    "A matriz acima é a representação da imagem de forma numérica, é o valor de cada pixel da imagem. Com esta imagem fica complicado. Vamos tentar analisar separando os canais de cores de um pixel específico. "
   ]
  },
  {
   "cell_type": "code",
   "execution_count": null,
   "metadata": {
    "colab": {
     "base_uri": "https://localhost:8080/"
    },
    "id": "NQbTfcNw0H8u",
    "outputId": "14c13928-818a-47fb-fc7f-851ee51568c4"
   },
   "outputs": [],
   "source": [
    "(b, g, r) = image[450, 50]\n",
    "print('O pixel (50, 50) tem as seguintes cores:')\n",
    "print('Vermelho:',r, 'Verde:', g, 'Azul:', b)"
   ]
  },
  {
   "cell_type": "markdown",
   "metadata": {
    "id": "6w0AqQDCvmXj"
   },
   "source": [
    "## Desafio 1\n",
    "Abra a imagem \"**img3x3.png**\" e plote suas componentes externas (shape) e internas (matriz). \n",
    "\n",
    "Como você esta relacionado as possições da matriz com os pixels da imagem??\n"
   ]
  },
  {
   "cell_type": "code",
   "execution_count": null,
   "metadata": {
    "colab": {
     "base_uri": "https://localhost:8080/",
     "height": 460
    },
    "id": "Rxw7izfiyZFT",
    "outputId": "de971ed6-a66e-41e5-8760-07f0208446f2"
   },
   "outputs": [],
   "source": [
    "# implemente aqui o seu código.\n",
    "\n",
    "\n",
    "\n"
   ]
  },
  {
   "cell_type": "markdown",
   "metadata": {
    "id": "xGOS9NyHnVeG"
   },
   "source": [
    "## Imagem em tons de cinza\n",
    "\n",
    "Em muitos casos trabalhamos com imagens na escala de cinza, logo, a imagem possui apenas 1 canal de cor."
   ]
  },
  {
   "cell_type": "code",
   "execution_count": null,
   "metadata": {
    "colab": {
     "base_uri": "https://localhost:8080/",
     "height": 300
    },
    "id": "7JIPrqkQ6xoQ",
    "outputId": "b73413b5-72a9-4ca5-eac8-3b864be1184d"
   },
   "outputs": [],
   "source": [
    "import cv2\n",
    "import numpy as np\n",
    "\n",
    "from matplotlib import pyplot as plt\n",
    "\n",
    "\n",
    "# Carregando a imagem na versão tons de cinza (grayscale) de um arquivo\n",
    "imagem_cinza = cv2.imread(\"img3x3.png\", cv2.IMREAD_GRAYSCALE)\n",
    "\n",
    "# ou use o argumento 0, tem o mesmo efeito de importar na escala de cinza\n",
    "#imagem_cinza = cv2.imread(\"img3x3.png\", 0)\n",
    "\n",
    "\n",
    "plt.imshow(imagem_cinza)\n",
    "\n",
    "plt.axis('off') \n",
    "plt.show()\n",
    "imagem_cinza"
   ]
  },
  {
   "cell_type": "markdown",
   "metadata": {
    "id": "6eikhBqn9Qkt"
   },
   "source": [
    "## Desafio 2\n",
    "\n",
    "Eita! alguma está errada nesse plot, era esperado uma imagem na escala de cinza. Por que apareceu isso, como corrigir?"
   ]
  },
  {
   "cell_type": "code",
   "execution_count": null,
   "metadata": {
    "colab": {
     "base_uri": "https://localhost:8080/",
     "height": 300
    },
    "id": "5uZpJ5Xy9lnL",
    "outputId": "e1be874c-4351-4976-8135-3fc3453b977e"
   },
   "outputs": [],
   "source": [
    "# Coloque aqui sua solução. \n",
    "import cv2\n",
    "import numpy as np\n",
    "\n",
    "from matplotlib import pyplot as plt\n",
    "\n",
    "\n",
    "# Carregando a imagem na versão tons de cinza (grayscale) de um arquivo\n",
    "imagem_cinza = cv2.imread(\"img3x3.png\", 0)\n",
    "\n",
    "plt.imshow(imagem_cinza, cmap='gray')\n",
    "\n",
    "plt.axis('off') \n",
    "plt.show()\n",
    "imagem_cinza\n"
   ]
  },
  {
   "cell_type": "markdown",
   "metadata": {
    "id": "HkAEuiLknVeN"
   },
   "source": [
    "## Amostragem da imagem\n",
    "\n",
    "As imagens capturadas por dispositivos digitais possuem as características de resolução espacial e resolução de cores\n",
    "Enquanto a resolução de cores afeta o número de cores que podem serr epresentadas na imagem, sua resolução espacial afeta o tamanho que a imagem irá ter. Embora não se possa comparar diretamente a resolução de duas imagens com tamanhos diferentes, a imagem do mesmo objeto, se possui mais pixels, significará que tamém possui maior resolução\n",
    "\n",
    "### Alterando o tamanho de uma imagem\n",
    "\n",
    "O redimensionamento da imagem pode ser feito na OpenCV através do comando `cv2.resize(imagem, tamanho, interpolação)`\n",
    "\n",
    "O tamanho é dado por uma tupla (W,H), onde W é a largura (número de colunas) e H é a altura (número de linhas)"
   ]
  },
  {
   "cell_type": "code",
   "execution_count": null,
   "metadata": {
    "colab": {
     "base_uri": "https://localhost:8080/",
     "height": 304
    },
    "id": "TZ-9VMcTnVeN",
    "outputId": "8eeb9cac-66a6-4631-eb93-03d37650c9a0"
   },
   "outputs": [],
   "source": [
    "# Carregando a imagem na versão colorida de um arquivo\n",
    "import cv2\n",
    "import matplotlib.pyplot as plt\n",
    "\n",
    "imagem = cv2.imread(\"NATUREZA_1.jpg\")\n",
    "image = cv2.cvtColor(imagem, cv2.COLOR_BGR2RGB)\n",
    "\n",
    "print(\"Dimensões da imagem: \", image.shape)\n",
    "\n",
    "\n",
    "imagem2 = cv2.resize(image, (600,400), cv2.INTER_LINEAR)\n",
    "print(\"Novas dimensões da imagem: \", imagem2.shape)\n",
    "\n",
    "\n",
    "plt.imshow(imagem2)\n",
    "plt.show()"
   ]
  },
  {
   "cell_type": "markdown",
   "metadata": {
    "id": "9ZJm41COnVeO"
   },
   "source": [
    "## Desafio 3\n",
    "\n",
    "Comparar os diferentes métodos de interpolação (vizinho mais próximo, bilinear e bicúbica) ao ampliarmos uma imagem em 10 vezes seu tamanho. Escolha uma imagem pequena.  \n",
    "\n",
    "Dica de onde encontrar na documentação as flags de interpolação: \n",
    "https://docs.opencv.org/3.4/da/d54/group__imgproc__transform.html#ga5bb5a1fea74ea38e1a5445ca803ff121\n",
    "\n",
    "Para saber mais sobre interpolação, sugiro assistir ao video: https://www.youtube.com/watch?v=8bTDssnJyZc&ab_channel=S.M.RiazulIslam"
   ]
  },
  {
   "cell_type": "code",
   "execution_count": null,
   "metadata": {
    "colab": {
     "base_uri": "https://localhost:8080/",
     "height": 300
    },
    "id": "RdTfKbgTAhT2",
    "outputId": "a6331e60-7642-4829-c525-bff7533c82f8"
   },
   "outputs": [],
   "source": [
    "#Implemente aqui sua solução............\n",
    "\n",
    "\n",
    "\n",
    "\n",
    "\n",
    "\n",
    "\n",
    "\n",
    "\n",
    "\n",
    "\n",
    "\n",
    "# Dica para imprimir varias imagens de forma mais organizada com o matplotlib\n",
    "\n",
    "plt.figure(figsize = (20,20))\n",
    "plt.subplot(1, 2, 1);plt.imshow(img)\n",
    "plt.subplot(1, 2, 2);plt.imshow(img2)\n",
    "plt.show()"
   ]
  },
  {
   "cell_type": "markdown",
   "metadata": {
    "id": "_DjxxQqeHIGI"
   },
   "source": [
    "## Alterando os valores dos pixels de uma imagem"
   ]
  },
  {
   "cell_type": "markdown",
   "metadata": {
    "id": "FwwrEcFwIv_j"
   },
   "source": [
    "### Range de valores\n",
    "\n",
    "Antes de alterar os valores dos pixels temos que entender que a OpenCV trabalha com valores de 8 bits para cada componente de cor ou escala de cinza, quer dizer que os valores possiveis estão no range entre **0** e **2⁸-1**, que é a mesma que dizer entre **0 e 255**. "
   ]
  },
  {
   "cell_type": "code",
   "execution_count": null,
   "metadata": {
    "colab": {
     "base_uri": "https://localhost:8080/",
     "height": 248
    },
    "id": "xvRdVXh-HOdY",
    "outputId": "e1a92fc7-e81a-4665-c8d8-5078704f4eee"
   },
   "outputs": [],
   "source": [
    "import cv2\n",
    "import numpy as np\n",
    "\n",
    "\n",
    "# Carregando a imagem na versão tons de cinza (grayscale) de um arquivo\n",
    "imagem_cinza = cv2.imread(\"img3x3.png\", cv2.IMREAD_COLOR)\n",
    "\n",
    "plt.imshow(imagem_cinza)\n",
    "\n",
    "plt.axis('off') \n",
    "plt.show()"
   ]
  },
  {
   "cell_type": "markdown",
   "metadata": {
    "id": "xXOdaFClKtdz"
   },
   "source": [
    "## Desafio 4\n",
    "\n",
    "Implemente um codigo que faz a alteração do pixel(0,0) para a a cor Magenta - RGB (255,0,255);"
   ]
  },
  {
   "cell_type": "code",
   "execution_count": null,
   "metadata": {
    "colab": {
     "base_uri": "https://localhost:8080/",
     "height": 248
    },
    "id": "xWrQ9L_iHk1N",
    "outputId": "8cb1866b-4af9-4ec5-9586-a2cc5b29328d"
   },
   "outputs": [],
   "source": [
    "# implemente aqui sua solução....\n",
    "\n",
    "\n",
    "\n",
    "\n",
    "\n",
    "\n",
    "\n",
    "\n",
    "\n",
    "\n",
    "\n",
    "\n"
   ]
  },
  {
   "cell_type": "markdown",
   "metadata": {
    "id": "Wab8cB6nvYs5"
   },
   "source": [
    "## Desafio 5\n",
    "Crie uma array de zero com 8 linhas e 5 colunas. E escreva (desenhe) a primeira letra do seu nome ou grupo. \n",
    "\n",
    "Plote a imagem para visualizar o resultado.\n",
    "\n",
    "Dica: Use np.zeros() para criar o array, para facilitar faça em escala de cinza onde o valor de intensidade do pixel 0=branco e 255=preto."
   ]
  },
  {
   "cell_type": "code",
   "execution_count": null,
   "metadata": {
    "colab": {
     "base_uri": "https://localhost:8080/",
     "height": 286
    },
    "id": "eOrrdSqDvWBQ",
    "outputId": "7f995d04-2e05-4bf2-98eb-11712c834afa"
   },
   "outputs": [],
   "source": [
    "# Começamos importanto as bibliotecas \n",
    "import cv2\n",
    "import numpy as np\n",
    "from matplotlib import pyplot as plt\n",
    "\n",
    "# Criamos o array de zero 3x3\n",
    "letra = np.zeros((8,5), dtype=int)\n",
    "\n",
    "# implemente aqui o seu código.........\n",
    "\n",
    "\n",
    "\n",
    "\n",
    "\n",
    "\n",
    "\n",
    "\n",
    "\n",
    "\n",
    "# Plota resultado\n",
    "\n",
    "plt.imshow(letra)"
   ]
  },
  {
   "cell_type": "markdown",
   "metadata": {
    "id": "JAQIMIdxMO26"
   },
   "source": [
    "## Varredura de uma imagem \n",
    "\n",
    "Desenvolver uma rotina capaz de varrer sua imagem pixel a pixel é muito mais interessante para aplicações mais práticas, embora exista tecnicas mais otimizadas e rápidas para essa aplicação, podemos utilizar uma estrutura de dois laços For para passar sobre todas as linhas e todas as colunas da matriz (imagem)."
   ]
  },
  {
   "cell_type": "code",
   "execution_count": null,
   "metadata": {
    "colab": {
     "base_uri": "https://localhost:8080/",
     "height": 269
    },
    "id": "bEmelJ-oLrzY",
    "outputId": "32491331-8fc0-42bf-d220-48a005d1a72b"
   },
   "outputs": [],
   "source": [
    "import cv2\n",
    "imagem = cv2.imread(\"NATUREZA_1.jpg\")\n",
    "image = cv2.cvtColor(imagem, cv2.COLOR_BGR2RGB)\n",
    "\n",
    "for y in range(0, image.shape[0]):\n",
    "  for x in range(0, image.shape[1]):\n",
    "    image[y, x] = (255,0,0) #sobreescrevendo todos os pixels da imagem para a cor vermelha\n",
    "    #pass\n",
    "plt.imshow(image, interpolation=\"none\")\n",
    "plt.show()"
   ]
  },
  {
   "cell_type": "markdown",
   "metadata": {
    "id": "qjkkxKfrSP3Y"
   },
   "source": [
    "## Desafio 6\n",
    "\n",
    "Utilizando a técnica dos 2 for, implemente uma função que desenha um linha branca na vertical no centro da imagem de largura 50 pixeis.\n",
    "Dica: use um if para checar a posição (x,y) antes de pintar de branco o pixel."
   ]
  },
  {
   "cell_type": "code",
   "execution_count": null,
   "metadata": {},
   "outputs": [],
   "source": [
    "### seu código aqui"
   ]
  }
 ],
 "metadata": {
  "colab": {
   "collapsed_sections": [],
   "name": "IntroPID.ipynb",
   "provenance": []
  },
  "kernelspec": {
   "display_name": "Python 3",
   "language": "python",
   "name": "python3"
  },
  "language_info": {
   "codemirror_mode": {
    "name": "ipython",
    "version": 3
   },
   "file_extension": ".py",
   "mimetype": "text/x-python",
   "name": "python",
   "nbconvert_exporter": "python",
   "pygments_lexer": "ipython3",
   "version": "3.8.10"
  }
 },
 "nbformat": 4,
 "nbformat_minor": 1
}
