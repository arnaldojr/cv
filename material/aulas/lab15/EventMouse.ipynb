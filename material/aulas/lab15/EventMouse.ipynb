{
 "cells": [
  {
   "cell_type": "markdown",
   "metadata": {},
   "source": [
    "## PROCESSAMENTO DE IMAGENS \n",
    "\n",
    "**Objetivos da aula:**\n",
    "\n",
    "*   apresentar e aplicar o Event click do mouse\n",
    "\n"
   ]
  },
  {
   "cell_type": "markdown",
   "metadata": {},
   "source": [
    "**QUAL O PROBLEMA?**\n",
    "\n",
    "Não é bem um problema mas pode ser util em alguns casos saber interagir na imagem com o mouse para fazer um recorte da imaem, saber o RGB de um pixel ou encontrar um angulo entre retas. Sabemos fazer isso sem mouser, mas gastamos um tempinho para fazer todos os ajustes...\n",
    "\n",
    "Visualmente é simples essa tarefa, basta clicar com o mouse na região escolhida e pronto!. \n",
    "\n"
   ]
  },
  {
   "cell_type": "markdown",
   "metadata": {},
   "source": [
    "## Event Mouse\n",
    "\n",
    "Podemos criar uma interface gráfica e interatividade com o mouse, nesse caso, baseado em eventos.\n",
    "\n",
    "Toda a vez que ocorre um evento do mouse, uma função de callback é executada no código. \n",
    "\n",
    "Vamos ver isso funcionado no código.\n",
    "\n",
    "Lembrete: No notebook pode travar, é melhor rodar em um arquivo .py\n",
    "\n"
   ]
  },
  {
   "cell_type": "code",
   "execution_count": 3,
   "metadata": {},
   "outputs": [],
   "source": [
    "import cv2\n",
    "import numpy as np\n",
    " \n",
    "# \n",
    "# cria uma matriz (imagem) de 480x640 com 3 canais (r,g,b), img toda preta com maximos de 0-255\n",
    "img = np.zeros((480, 640, 3), dtype=\"uint8\")\n",
    "  \n",
    "# exibe a img\n",
    "cv2.imshow('image', img)\n",
    "\n",
    "# é uma função de callback para tratativa de eventos do mouse\n",
    "def mouse_click(event, x, y, flags, param):\n",
    "    \n",
    "    # se foi click do botao direito \n",
    "    if event == cv2.EVENT_RBUTTONDOWN:\n",
    "        # faça a função.... \n",
    "        pass\n",
    "    if event == cv2.EVENT_LBUTTONDOWN:\n",
    "        # faça a função.... \n",
    "        pass\n",
    "\n",
    "\n",
    "\n",
    "\n",
    "\n",
    "#  configura o evento do mouse e chama a função mouse_click\n",
    "cv2.setMouseCallback('image', mouse_click)\n",
    "   \n",
    "cv2.waitKey(0)\n",
    "  \n",
    "# \n",
    "cv2.destroyAllWindows()"
   ]
  },
  {
   "cell_type": "markdown",
   "metadata": {},
   "source": [
    "O código acima cria uma imagem preta e fica aguardando um evento do mouse. O mouse pode gerar alguns tipos de eventos, mas quais são eles???"
   ]
  },
  {
   "cell_type": "code",
   "execution_count": 6,
   "metadata": {
    "tags": []
   },
   "outputs": [
    {
     "output_type": "stream",
     "name": "stdout",
     "text": [
      "['EVENT_FLAG_ALTKEY', 'EVENT_FLAG_CTRLKEY', 'EVENT_FLAG_LBUTTON', 'EVENT_FLAG_MBUTTON', 'EVENT_FLAG_RBUTTON', 'EVENT_FLAG_SHIFTKEY', 'EVENT_LBUTTONDBLCLK', 'EVENT_LBUTTONDOWN', 'EVENT_LBUTTONUP', 'EVENT_MBUTTONDBLCLK', 'EVENT_MBUTTONDOWN', 'EVENT_MBUTTONUP', 'EVENT_MOUSEHWHEEL', 'EVENT_MOUSEMOVE', 'EVENT_MOUSEWHEEL', 'EVENT_RBUTTONDBLCLK', 'EVENT_RBUTTONDOWN', 'EVENT_RBUTTONUP']\n18\n"
     ]
    }
   ],
   "source": [
    "# Dica python como usar um list comprehensions no python e a função built-in dir()\n",
    "\n",
    "import cv2\n",
    "import numpy as np\n",
    "\n",
    "# A função dir() devolte todas propriedades e métodos de um objeto especifico\n",
    "#print(len(dir(cv2)))\n",
    "#print (dir(cv2))\n",
    "\n",
    "\n",
    "# Vamos varrer o objeto cv2 e filtrar apenas os métodos que tem relação com EVENT\n",
    "eventos = []\n",
    "for i in dir(cv2):\n",
    "    if 'EVENT' in i:\n",
    "        eventos.append(i)\n",
    "print(eventos)\n",
    "print(len(eventos))\n",
    "\n",
    "# Usando List comprehension\n",
    "# Devolve uma lista na variavel events filtando os dados de outra lista\n",
    "\n",
    "#events = [i for i in dir(cv2) if 'EVENT' in i]\n",
    "#print( events )\n",
    "\n",
    "\n"
   ]
  },
  {
   "source": [
    "Basicamente são esses:\n",
    "\n",
    "Eventos:\n",
    "\n",
    "        CV_EVENT_MOUSEMOVE: movimento do mouse\n",
    "\n",
    "        CV_EVENT_LBUTTONDOWN: Pressione o botão esquerdo do mouse\n",
    "        CV_EVENT_RBUTTONDOWN: Pressione o botão direito do mouse\n",
    "        CV_EVENT_MBUTTONDOWN: Pressione o botão do meio do mouse\n",
    "\n",
    "        CV_EVENT_LBUTTONUP: solte o botão esquerdo\n",
    "        CV_EVENT_RBUTTONUP: solte o botão direito \n",
    "        CV_EVENT_MBUTTONUP: Solte o botão do meio\n",
    "\n",
    "        CV_EVENT_LBUTTONDBLCLK: clique duplo esquerdo\n",
    "        CV_EVENT_RBUTTONDBLCLK: Clique duplo direito \n",
    "        CV_EVENT_MBUTTONDBLCLK: clique duplo do botão do meio\n",
    "        \n",
    "        CV_EVENT_MOUSEWHEEL: Mova o mouse para frente (+) ou para trás (-)\n",
    "        CV_EVENT_MOUSEHWHEEL: Mova o mouse para a direita (+) ou esquerda (-)\n",
    "        \n",
    "Flags:\n",
    "\n",
    "        CV_EVENT_FLAG_LBUTTON: Clique com o botão esquerdo e arraste\n",
    "        CV_EVENT_FLAG_RBUTTON: Clique com o botão direito e arraste\n",
    "        CV_EVENT_FLAG_MBUTTON: botão do meio arrastar\n",
    "        \n",
    "        CV_EVENT_FLAG_CTRLKEY: Pressione e segure Ctrl\n",
    "        CV_EVENT_FLAG_SHIFTKEY: shift pressione e segure\n",
    "        CV_EVENT_FLAG_ALTKEY: pressione e segure alt"
   ],
   "cell_type": "markdown",
   "metadata": {}
  },
  {
   "source": [
    "## Desafio 1\n",
    "\n",
    "O nosso código está funcionando mas, note que não mandamos realizar nenhum ação na chamada do callback. \n",
    "\n",
    "Implemente um código que troca a cor da imagem a cada click. "
   ],
   "cell_type": "markdown",
   "metadata": {}
  },
  {
   "cell_type": "code",
   "execution_count": 1,
   "metadata": {},
   "outputs": [],
   "source": [
    "import cv2\n",
    "import numpy as np\n",
    " \n",
    "# Carrega uma imagem\n",
    "# Neste caso estamos criando uma imagem RGB preta de tamanho 480x640\n",
    "img = np.zeros((480, 640, 3), dtype=\"uint8\")\n",
    "  \n",
    "# Exibe a imagem\n",
    "cv2.imshow('image', img)\n",
    "\n",
    "# Função de callback, quando ocorre um evento do mouse, essa função é chamada\n",
    "def mouse_click(event, x, y, flags, param):\n",
    "    global img\n",
    "    # Se foi o botão esquerdo do mouse  \n",
    "\n",
    "\n",
    "    # Se foi o botão direito do mouse  \n",
    "    if event == cv2.EVENT_RBUTTONDOWN:\n",
    "        \n",
    "        # ---------- implemente a solução... \n",
    "        img[:,:] = [255,0,0]\n",
    "\n",
    "        cv2.imshow('image', img)\n",
    "    # Se foi o botão direito do mouse  \n",
    "\n",
    "    if event == cv2.EVENT_LBUTTONDBLCLK:\n",
    "        \n",
    "        # ---------- implemente a solução... \n",
    "        img[:,:] = [0,0,255]\n",
    "\n",
    "        cv2.imshow('image', img)\n",
    "\n",
    "\n",
    "\n",
    "# Seta a função de callback que será chamada \n",
    "# Evento 'image', função callback mouse_click  \n",
    "cv2.setMouseCallback('image', mouse_click)\n",
    "   \n",
    "cv2.waitKey(0)\n",
    "  \n",
    "# fecha a janela.\n",
    "cv2.destroyAllWindows()"
   ]
  },
  {
   "source": [
    "## Projeto 1\n",
    "\n",
    "Vamos criar o nosso proprio color picker. \n",
    "\n",
    "Ao clicar sobre a imagem, aparece a intensidade do pixel em RGB."
   ],
   "cell_type": "markdown",
   "metadata": {}
  },
  {
   "cell_type": "code",
   "execution_count": 13,
   "metadata": {},
   "outputs": [
    {
     "output_type": "stream",
     "name": "stdout",
     "text": [
      "200 100 14\n",
      "91 82 175\n",
      "25 24 30\n",
      "188 189 184\n",
      "25 21 46\n",
      "177 100 46\n",
      "198 98 12\n",
      "22 20 31\n"
     ]
    }
   ],
   "source": [
    "import cv2\n",
    "import numpy as np\n",
    " \n",
    "# Carrega uma imagem\n",
    "img = cv2.imread('admiravelmundonovo.jpg')\n",
    "  \n",
    "# Exibe a imagem\n",
    "cv2.imshow('image', img)\n",
    "\n",
    "# Função de callback, quando ocorre um evento do mouse, essa função é chamada\n",
    "def mouse_click(event, x, y, flags, param):\n",
    "    \n",
    "    # Se foi o botão esquerdo do mouse  \n",
    "    if event == cv2.EVENT_LBUTTONDOWN:\n",
    "        \n",
    "        # Realiza função... \n",
    "        #blue = img[y,x,0]\n",
    "        #green = img[y,x,1]\n",
    "        #red = img[y,x,2]\n",
    "        blue, green, red = img[y,x]\n",
    "        #print (red, green, blue)\n",
    "        msg = \"R:\" + str(red) + \", G:\" + str(green) + \", B:\" +str(blue)\n",
    "        cv2.putText(img,msg,(x,y),cv2.FONT_HERSHEY_COMPLEX,1.5,(255,255,255),2)\n",
    "\n",
    "        cv2.imshow('image', img)\n",
    "\n",
    "# Seta a função de callback que será chamada \n",
    "# Evento 'image', função callback mouse_click  \n",
    "cv2.setMouseCallback('image', mouse_click)\n",
    "   \n",
    "cv2.waitKey(0)\n",
    "  \n",
    "# fecha a janela.\n",
    "cv2.destroyAllWindows()"
   ]
  },
  {
   "source": [
    "## Desafio 2 \n",
    " \n",
    "Vamos melhorar um pouco esse color picker... \n",
    "\n",
    "Faça um script que ao clicar sobre a imagem, aparece a intensidade do pixel em RGB e abre uma nova janela (100x100) com essa cor."
   ],
   "cell_type": "markdown",
   "metadata": {}
  },
  {
   "cell_type": "code",
   "execution_count": 1,
   "metadata": {},
   "outputs": [],
   "source": [
    "# Implemente a solução aqui.....\n",
    "\n",
    "\n",
    "\n"
   ]
  },
  {
   "source": [
    "## Projeto 2 \n",
    "\n",
    "Vamos implementar um código que desenha um circulo na imagem conforme o mouse anda pela tela. (tipo Paint-Brush)"
   ],
   "cell_type": "markdown",
   "metadata": {}
  },
  {
   "cell_type": "code",
   "execution_count": null,
   "metadata": {},
   "outputs": [],
   "source": [
    "import cv2\n",
    "import numpy as np\n",
    " \n",
    "# Carrega uma imagem\n",
    "# Neste caso estamos criando uma imagem RGB preta de tamanho 480x640\n",
    "img = np.zeros((480, 640, 3), dtype=\"uint8\")\n",
    "  \n",
    "# Exibe a imagem\n",
    "cv2.imshow('image', img)\n",
    "\n",
    "# Função de callback, quando ocorre um evento do mouse, essa função é chamada\n",
    "def mouse_click(event, x, y, flags, param):\n",
    "    \n",
    "    # Se foi movimento do mouse   \n",
    "    if event == cv2.EVENT_MOUSEMOVE:\n",
    "        \n",
    "        # Realiza função... \n",
    "        \n",
    "        cv2.circle(img, (x,y), 20,(0,255,0), -1)\n",
    "        cv2.imshow('image', img)\n",
    "\n",
    "\n",
    "# Seta a função de callback que será chamada \n",
    "# Evento 'image', função callback mouse_click  \n",
    "cv2.setMouseCallback('image', mouse_click)\n",
    "   \n",
    "cv2.waitKey(0)\n",
    "  \n",
    "# fecha a janela.\n",
    "cv2.destroyAllWindows()"
   ]
  },
  {
   "source": [
    "## Desafio 3\n",
    "\n",
    "Ficou legal, mas ainda esta bem \"zoado\"... \n",
    "\n",
    "Melhore este código, altere o código para desenhar um circulo na imagem se o botão esquerdo estiver pressionado, quando solta o botão para de desenhar. \n",
    "\n",
    "Implemente tambem a função que limpa a tela quando o botão direto é pressionado."
   ],
   "cell_type": "markdown",
   "metadata": {}
  },
  {
   "cell_type": "code",
   "execution_count": null,
   "metadata": {},
   "outputs": [],
   "source": [
    "# Implemente a solução aqui.....\n",
    "\n",
    "\n",
    "\n",
    "\n",
    "\n",
    "\n"
   ]
  },
  {
   "source": [
    "Muito legal mas... pouco util até o momento. Vamos desenvolver aplicações mais interessantes. \n",
    "\n"
   ],
   "cell_type": "markdown",
   "metadata": {}
  },
  {
   "source": [
    "## Projeto 3\n",
    "\n",
    "Vamos fazer um código que marca dois pontos na tela com o botão esquerdo e traça uma reta. Quando clica com o direito zera."
   ],
   "cell_type": "markdown",
   "metadata": {}
  },
  {
   "cell_type": "code",
   "execution_count": null,
   "metadata": {},
   "outputs": [],
   "source": [
    "import cv2\n",
    "import numpy as np\n",
    " \n",
    "# Carrega uma imagem\n",
    "# Neste caso estamos criando uma imagem RGB preta de tamanho 480x640\n",
    "img = np.zeros((480, 640, 3), dtype=\"uint8\")\n",
    "  \n",
    "# Exibe a imagem\n",
    "cv2.imshow('image', img)\n",
    "\n",
    "# Cria duas variaveis globais\n",
    "clicks = 0      # conta a quantidade de clicks dada\n",
    "coordinates = [] # salva as coordenadas de cada click\n",
    "\n",
    "\n",
    "# Função de callback, quando ocorre um evento do mouse, essa função é chamada\n",
    "def mouse_click(event, x, y, flags, param):\n",
    "    global clicks, coordinates, image\n",
    "    # Se foi movimento do mouse  \n",
    "\n",
    "    if clicks < 2:\n",
    "        if event == cv2.EVENT_LBUTTONDBLCLK:\n",
    "            clicks += 1        \n",
    "            coordinates.append([x, y])\n",
    "            cv2.circle(img, (x,y), 2,(0,255,0), -1)\n",
    "            cv2.imshow('image', img)\n",
    "            print(clicks, coordinates)\n",
    "\n",
    "    # Se foi o botão esquerdo do mouse  \n",
    "    else:\n",
    "        if event == cv2.EVENT_RBUTTONDOWN:\n",
    "            img[:,:,] = 0\n",
    "            img[:,:,1] = 0\n",
    "            img[:,:,2] = 0\n",
    "            clicks = 0\n",
    "            coordinates = []\n",
    "            cv2.imshow('image', img)\n",
    "        else:\n",
    "            start_point = tuple(coordinates[0]) \n",
    "            end_point = tuple(coordinates[1])\n",
    "            print(start_point,end_point)\n",
    "            cv2.line(img, start_point, end_point, (0,255,0), 2)\n",
    "            cv2.imshow('image', img)\n",
    "\n",
    "\n",
    "# Seta a função de callback que será chamada \n",
    "# Evento 'image', função callback mouse_click  \n",
    "cv2.setMouseCallback('image', mouse_click)\n",
    "   \n",
    "cv2.waitKey(0)\n",
    "  \n",
    "# fecha a janela.\n",
    "cv2.destroyAllWindows()"
   ]
  },
  {
   "source": [
    "## Desafio 4\n",
    "\n",
    "A logica implementada acima não foi a mais otimizada... mas com base nele (ou não), faça um programa que calcula o angulo entre quais 3 pontos. O resultado deve ser exibido no tela.\n",
    "\n",
    "Dicas: \n",
    "\n",
    "    cv2.putText() para escrever na tela. \n",
    "\n",
    "    calculo do angulo: Se não lembra de trigonometria, não tem problema! Da um google de como calcular o angulo entre 2 linhas ou entre 3 pontos. por exemplo: https://manivannan-ai.medium.com/find-the-angle-between-three-points-from-2d-using-python-348c513e2cd"
   ],
   "cell_type": "markdown",
   "metadata": {}
  },
  {
   "cell_type": "code",
   "execution_count": null,
   "metadata": {},
   "outputs": [],
   "source": [
    "# implemente sua solução aqui...........\n",
    "\n",
    "\n",
    "\n",
    "\n",
    "\n",
    "\n",
    "\n",
    "\n",
    "\n",
    "\n",
    "\n",
    "\n",
    "\n",
    "\n"
   ]
  },
  {
   "source": [
    "## Projeto 4\n",
    "\n",
    "A seleção de um região de interesse nada mais é que a determinação de das coordenadas iniciais e finais do boundbox. "
   ],
   "cell_type": "markdown",
   "metadata": {}
  },
  {
   "cell_type": "code",
   "execution_count": 2,
   "metadata": {},
   "outputs": [],
   "source": [
    "import cv2\n",
    "import numpy as np\n",
    " \n",
    "# Carrega uma imagem\n",
    "# Neste caso estamos criando uma imagem RGB preta de tamanho 480x640\n",
    "img = np.zeros((480, 640, 3), dtype=\"uint8\")\n",
    "  \n",
    "# Exibe a imagem\n",
    "cv2.imshow('image', img)\n",
    "\n",
    "points = []\n",
    "\n",
    "# Função de callback, quando ocorre um evento do mouse, essa função é chamada\n",
    "def mouse_click(event, x, y, flags, param): \n",
    "    global points\n",
    "\n",
    "    if event == cv2.EVENT_LBUTTONDOWN:\n",
    "        points = [(x, y)]\n",
    "\n",
    "    elif event == cv2.EVENT_LBUTTONUP:\n",
    "        points.append((x, y))\n",
    "        p1 = tuple(points[0]) \n",
    "        p2 = tuple(points[1])\n",
    "\n",
    "        cv2.rectangle(img, p1 , p2, (0, 255, 0), 3)\n",
    "        cv2.imshow('image', img)\n",
    "\n",
    "# Seta a função de callback que será chamada \n",
    "# Evento 'image', função callback mouse_click  \n",
    "cv2.setMouseCallback('image', mouse_click)\n",
    "   \n",
    "cv2.waitKey(0)\n",
    "  \n",
    "# fecha a janela.\n",
    "cv2.destroyAllWindows()"
   ]
  },
  {
   "source": [
    "## Desafio 5\n",
    "\n",
    "Faça um script que o usuario define uma area de seleção. essa imagem é aberta em uma nova janela e se for pressionado a tecla \"s\" salva a imagem no diretorio.\n",
    "\n",
    "Dicas: \n",
    "\n",
    "    cv2.imwrite() para salvar.\n",
    "\n",
    "    if key == ord('s') : dar uma lida na função cv2.waiKey() e ord().  \n"
   ],
   "cell_type": "markdown",
   "metadata": {}
  },
  {
   "cell_type": "code",
   "execution_count": 6,
   "metadata": {},
   "outputs": [],
   "source": [
    "# Implemente sua resposta.......\n",
    "\n",
    "\n",
    "\n",
    "\n",
    "\n"
   ]
  }
 ],
 "metadata": {
  "colab": {
   "collapsed_sections": [],
   "name": "Visão_Computacional_Aula_13.ipynb",
   "provenance": [],
   "toc_visible": true
  },
  "kernelspec": {
   "display_name": "Python 3",
   "language": "python",
   "name": "python3"
  },
  "language_info": {
   "codemirror_mode": {
    "name": "ipython",
    "version": 3
   },
   "file_extension": ".py",
   "mimetype": "text/x-python",
   "name": "python",
   "nbconvert_exporter": "python",
   "pygments_lexer": "ipython3",
   "version": "3.8.5"
  }
 },
 "nbformat": 4,
 "nbformat_minor": 1
}